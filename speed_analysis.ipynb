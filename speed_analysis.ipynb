{
 "cells": [
  {
   "cell_type": "code",
   "execution_count": 26,
   "metadata": {},
   "outputs": [],
   "source": [
    "import pandas as pd\n",
    "import numpy as np\n",
    "import re\n",
    "import matplotlib.pyplot as plt\n",
    "%matplotlib inline\n",
    "plt.style.use('ggplot')"
   ]
  },
  {
   "cell_type": "code",
   "execution_count": 27,
   "metadata": {},
   "outputs": [],
   "source": [
    "df_dialogue = pd.read_csv('speed_dialogue.csv')\n",
    "df_eforms = pd.read_csv('speed_mobile.csv')"
   ]
  },
  {
   "cell_type": "code",
   "execution_count": 28,
   "metadata": {},
   "outputs": [
    {
     "data": {
      "text/html": [
       "<div>\n",
       "<style scoped>\n",
       "    .dataframe tbody tr th:only-of-type {\n",
       "        vertical-align: middle;\n",
       "    }\n",
       "\n",
       "    .dataframe tbody tr th {\n",
       "        vertical-align: top;\n",
       "    }\n",
       "\n",
       "    .dataframe thead th {\n",
       "        text-align: right;\n",
       "    }\n",
       "</style>\n",
       "<table border=\"1\" class=\"dataframe\">\n",
       "  <thead>\n",
       "    <tr style=\"text-align: right;\">\n",
       "      <th></th>\n",
       "      <th>Unnamed: 0</th>\n",
       "      <th>user_id</th>\n",
       "      <th>vital_signs</th>\n",
       "      <th>meal_medication</th>\n",
       "      <th>oral_care</th>\n",
       "      <th>excretion</th>\n",
       "      <th>bathing</th>\n",
       "    </tr>\n",
       "  </thead>\n",
       "  <tbody>\n",
       "    <tr>\n",
       "      <th>0</th>\n",
       "      <td>0</td>\n",
       "      <td>1</td>\n",
       "      <td>26.85</td>\n",
       "      <td>29.84</td>\n",
       "      <td>16.66</td>\n",
       "      <td>44.76</td>\n",
       "      <td>28.87</td>\n",
       "    </tr>\n",
       "    <tr>\n",
       "      <th>1</th>\n",
       "      <td>1</td>\n",
       "      <td>2</td>\n",
       "      <td>29.54</td>\n",
       "      <td>31.26</td>\n",
       "      <td>20.47</td>\n",
       "      <td>44.27</td>\n",
       "      <td>28.30</td>\n",
       "    </tr>\n",
       "    <tr>\n",
       "      <th>2</th>\n",
       "      <td>2</td>\n",
       "      <td>3</td>\n",
       "      <td>24.71</td>\n",
       "      <td>31.70</td>\n",
       "      <td>19.05</td>\n",
       "      <td>38.24</td>\n",
       "      <td>25.42</td>\n",
       "    </tr>\n",
       "    <tr>\n",
       "      <th>3</th>\n",
       "      <td>3</td>\n",
       "      <td>4</td>\n",
       "      <td>20.97</td>\n",
       "      <td>24.96</td>\n",
       "      <td>16.30</td>\n",
       "      <td>37.46</td>\n",
       "      <td>27.42</td>\n",
       "    </tr>\n",
       "    <tr>\n",
       "      <th>4</th>\n",
       "      <td>4</td>\n",
       "      <td>5</td>\n",
       "      <td>22.33</td>\n",
       "      <td>31.37</td>\n",
       "      <td>19.55</td>\n",
       "      <td>41.56</td>\n",
       "      <td>28.66</td>\n",
       "    </tr>\n",
       "    <tr>\n",
       "      <th>5</th>\n",
       "      <td>5</td>\n",
       "      <td>6</td>\n",
       "      <td>26.99</td>\n",
       "      <td>22.47</td>\n",
       "      <td>21.32</td>\n",
       "      <td>36.71</td>\n",
       "      <td>29.00</td>\n",
       "    </tr>\n",
       "    <tr>\n",
       "      <th>6</th>\n",
       "      <td>6</td>\n",
       "      <td>7</td>\n",
       "      <td>26.46</td>\n",
       "      <td>25.21</td>\n",
       "      <td>17.73</td>\n",
       "      <td>44.59</td>\n",
       "      <td>27.74</td>\n",
       "    </tr>\n",
       "    <tr>\n",
       "      <th>7</th>\n",
       "      <td>7</td>\n",
       "      <td>8</td>\n",
       "      <td>28.65</td>\n",
       "      <td>24.83</td>\n",
       "      <td>19.87</td>\n",
       "      <td>36.12</td>\n",
       "      <td>27.32</td>\n",
       "    </tr>\n",
       "    <tr>\n",
       "      <th>8</th>\n",
       "      <td>8</td>\n",
       "      <td>9</td>\n",
       "      <td>26.15</td>\n",
       "      <td>26.37</td>\n",
       "      <td>19.47</td>\n",
       "      <td>38.58</td>\n",
       "      <td>28.54</td>\n",
       "    </tr>\n",
       "    <tr>\n",
       "      <th>9</th>\n",
       "      <td>9</td>\n",
       "      <td>10</td>\n",
       "      <td>21.22</td>\n",
       "      <td>25.77</td>\n",
       "      <td>17.28</td>\n",
       "      <td>42.95</td>\n",
       "      <td>28.44</td>\n",
       "    </tr>\n",
       "    <tr>\n",
       "      <th>10</th>\n",
       "      <td>10</td>\n",
       "      <td>11</td>\n",
       "      <td>22.62</td>\n",
       "      <td>23.33</td>\n",
       "      <td>17.69</td>\n",
       "      <td>41.93</td>\n",
       "      <td>25.40</td>\n",
       "    </tr>\n",
       "    <tr>\n",
       "      <th>11</th>\n",
       "      <td>11</td>\n",
       "      <td>12</td>\n",
       "      <td>24.32</td>\n",
       "      <td>24.44</td>\n",
       "      <td>17.96</td>\n",
       "      <td>38.24</td>\n",
       "      <td>25.20</td>\n",
       "    </tr>\n",
       "  </tbody>\n",
       "</table>\n",
       "</div>"
      ],
      "text/plain": [
       "    Unnamed: 0  user_id  vital_signs  meal_medication  oral_care  excretion  \\\n",
       "0            0        1        26.85            29.84      16.66      44.76   \n",
       "1            1        2        29.54            31.26      20.47      44.27   \n",
       "2            2        3        24.71            31.70      19.05      38.24   \n",
       "3            3        4        20.97            24.96      16.30      37.46   \n",
       "4            4        5        22.33            31.37      19.55      41.56   \n",
       "5            5        6        26.99            22.47      21.32      36.71   \n",
       "6            6        7        26.46            25.21      17.73      44.59   \n",
       "7            7        8        28.65            24.83      19.87      36.12   \n",
       "8            8        9        26.15            26.37      19.47      38.58   \n",
       "9            9       10        21.22            25.77      17.28      42.95   \n",
       "10          10       11        22.62            23.33      17.69      41.93   \n",
       "11          11       12        24.32            24.44      17.96      38.24   \n",
       "\n",
       "    bathing  \n",
       "0     28.87  \n",
       "1     28.30  \n",
       "2     25.42  \n",
       "3     27.42  \n",
       "4     28.66  \n",
       "5     29.00  \n",
       "6     27.74  \n",
       "7     27.32  \n",
       "8     28.54  \n",
       "9     28.44  \n",
       "10    25.40  \n",
       "11    25.20  "
      ]
     },
     "execution_count": 28,
     "metadata": {},
     "output_type": "execute_result"
    }
   ],
   "source": [
    "df_dialogue"
   ]
  },
  {
   "cell_type": "code",
   "execution_count": 29,
   "metadata": {},
   "outputs": [
    {
     "data": {
      "text/html": [
       "<div>\n",
       "<style scoped>\n",
       "    .dataframe tbody tr th:only-of-type {\n",
       "        vertical-align: middle;\n",
       "    }\n",
       "\n",
       "    .dataframe tbody tr th {\n",
       "        vertical-align: top;\n",
       "    }\n",
       "\n",
       "    .dataframe thead th {\n",
       "        text-align: right;\n",
       "    }\n",
       "</style>\n",
       "<table border=\"1\" class=\"dataframe\">\n",
       "  <thead>\n",
       "    <tr style=\"text-align: right;\">\n",
       "      <th></th>\n",
       "      <th>Unnamed: 0</th>\n",
       "      <th>user_id</th>\n",
       "      <th>vital_signs</th>\n",
       "      <th>meal_medication</th>\n",
       "      <th>oral_care</th>\n",
       "      <th>excretion</th>\n",
       "      <th>bathing</th>\n",
       "    </tr>\n",
       "  </thead>\n",
       "  <tbody>\n",
       "    <tr>\n",
       "      <th>count</th>\n",
       "      <td>12.000000</td>\n",
       "      <td>12.000000</td>\n",
       "      <td>12.000000</td>\n",
       "      <td>12.000000</td>\n",
       "      <td>12.0000</td>\n",
       "      <td>12.000000</td>\n",
       "      <td>12.000000</td>\n",
       "    </tr>\n",
       "    <tr>\n",
       "      <th>mean</th>\n",
       "      <td>5.500000</td>\n",
       "      <td>6.500000</td>\n",
       "      <td>25.067500</td>\n",
       "      <td>26.795833</td>\n",
       "      <td>18.6125</td>\n",
       "      <td>40.450833</td>\n",
       "      <td>27.525833</td>\n",
       "    </tr>\n",
       "    <tr>\n",
       "      <th>std</th>\n",
       "      <td>3.605551</td>\n",
       "      <td>3.605551</td>\n",
       "      <td>2.837816</td>\n",
       "      <td>3.322481</td>\n",
       "      <td>1.5713</td>\n",
       "      <td>3.232256</td>\n",
       "      <td>1.420387</td>\n",
       "    </tr>\n",
       "    <tr>\n",
       "      <th>min</th>\n",
       "      <td>0.000000</td>\n",
       "      <td>1.000000</td>\n",
       "      <td>20.970000</td>\n",
       "      <td>22.470000</td>\n",
       "      <td>16.3000</td>\n",
       "      <td>36.120000</td>\n",
       "      <td>25.200000</td>\n",
       "    </tr>\n",
       "    <tr>\n",
       "      <th>25%</th>\n",
       "      <td>2.750000</td>\n",
       "      <td>3.750000</td>\n",
       "      <td>22.547500</td>\n",
       "      <td>24.732500</td>\n",
       "      <td>17.5875</td>\n",
       "      <td>38.045000</td>\n",
       "      <td>26.845000</td>\n",
       "    </tr>\n",
       "    <tr>\n",
       "      <th>50%</th>\n",
       "      <td>5.500000</td>\n",
       "      <td>6.500000</td>\n",
       "      <td>25.430000</td>\n",
       "      <td>25.490000</td>\n",
       "      <td>18.5050</td>\n",
       "      <td>40.070000</td>\n",
       "      <td>28.020000</td>\n",
       "    </tr>\n",
       "    <tr>\n",
       "      <th>75%</th>\n",
       "      <td>8.250000</td>\n",
       "      <td>9.250000</td>\n",
       "      <td>26.885000</td>\n",
       "      <td>30.195000</td>\n",
       "      <td>19.6300</td>\n",
       "      <td>43.280000</td>\n",
       "      <td>28.570000</td>\n",
       "    </tr>\n",
       "    <tr>\n",
       "      <th>max</th>\n",
       "      <td>11.000000</td>\n",
       "      <td>12.000000</td>\n",
       "      <td>29.540000</td>\n",
       "      <td>31.700000</td>\n",
       "      <td>21.3200</td>\n",
       "      <td>44.760000</td>\n",
       "      <td>29.000000</td>\n",
       "    </tr>\n",
       "  </tbody>\n",
       "</table>\n",
       "</div>"
      ],
      "text/plain": [
       "       Unnamed: 0    user_id  vital_signs  meal_medication  oral_care  \\\n",
       "count   12.000000  12.000000    12.000000        12.000000    12.0000   \n",
       "mean     5.500000   6.500000    25.067500        26.795833    18.6125   \n",
       "std      3.605551   3.605551     2.837816         3.322481     1.5713   \n",
       "min      0.000000   1.000000    20.970000        22.470000    16.3000   \n",
       "25%      2.750000   3.750000    22.547500        24.732500    17.5875   \n",
       "50%      5.500000   6.500000    25.430000        25.490000    18.5050   \n",
       "75%      8.250000   9.250000    26.885000        30.195000    19.6300   \n",
       "max     11.000000  12.000000    29.540000        31.700000    21.3200   \n",
       "\n",
       "       excretion    bathing  \n",
       "count  12.000000  12.000000  \n",
       "mean   40.450833  27.525833  \n",
       "std     3.232256   1.420387  \n",
       "min    36.120000  25.200000  \n",
       "25%    38.045000  26.845000  \n",
       "50%    40.070000  28.020000  \n",
       "75%    43.280000  28.570000  \n",
       "max    44.760000  29.000000  "
      ]
     },
     "execution_count": 29,
     "metadata": {},
     "output_type": "execute_result"
    }
   ],
   "source": [
    "df_dialogue.describe()"
   ]
  },
  {
   "cell_type": "code",
   "execution_count": 30,
   "metadata": {},
   "outputs": [
    {
     "data": {
      "text/html": [
       "<div>\n",
       "<style scoped>\n",
       "    .dataframe tbody tr th:only-of-type {\n",
       "        vertical-align: middle;\n",
       "    }\n",
       "\n",
       "    .dataframe tbody tr th {\n",
       "        vertical-align: top;\n",
       "    }\n",
       "\n",
       "    .dataframe thead th {\n",
       "        text-align: right;\n",
       "    }\n",
       "</style>\n",
       "<table border=\"1\" class=\"dataframe\">\n",
       "  <thead>\n",
       "    <tr style=\"text-align: right;\">\n",
       "      <th></th>\n",
       "      <th>Unnamed: 0</th>\n",
       "      <th>user_id</th>\n",
       "      <th>vital_signs</th>\n",
       "      <th>meal_medication</th>\n",
       "      <th>oral_care</th>\n",
       "      <th>excretion</th>\n",
       "      <th>bathing</th>\n",
       "    </tr>\n",
       "  </thead>\n",
       "  <tbody>\n",
       "    <tr>\n",
       "      <th>0</th>\n",
       "      <td>0</td>\n",
       "      <td>1</td>\n",
       "      <td>29.20</td>\n",
       "      <td>31.29</td>\n",
       "      <td>24.07</td>\n",
       "      <td>45.79</td>\n",
       "      <td>32.43</td>\n",
       "    </tr>\n",
       "    <tr>\n",
       "      <th>1</th>\n",
       "      <td>1</td>\n",
       "      <td>2</td>\n",
       "      <td>28.65</td>\n",
       "      <td>32.32</td>\n",
       "      <td>19.71</td>\n",
       "      <td>41.35</td>\n",
       "      <td>30.12</td>\n",
       "    </tr>\n",
       "    <tr>\n",
       "      <th>2</th>\n",
       "      <td>2</td>\n",
       "      <td>3</td>\n",
       "      <td>34.17</td>\n",
       "      <td>35.08</td>\n",
       "      <td>21.76</td>\n",
       "      <td>44.66</td>\n",
       "      <td>28.35</td>\n",
       "    </tr>\n",
       "    <tr>\n",
       "      <th>3</th>\n",
       "      <td>3</td>\n",
       "      <td>4</td>\n",
       "      <td>32.66</td>\n",
       "      <td>32.70</td>\n",
       "      <td>20.42</td>\n",
       "      <td>40.34</td>\n",
       "      <td>32.53</td>\n",
       "    </tr>\n",
       "    <tr>\n",
       "      <th>4</th>\n",
       "      <td>4</td>\n",
       "      <td>5</td>\n",
       "      <td>32.45</td>\n",
       "      <td>37.71</td>\n",
       "      <td>19.10</td>\n",
       "      <td>48.01</td>\n",
       "      <td>28.29</td>\n",
       "    </tr>\n",
       "    <tr>\n",
       "      <th>5</th>\n",
       "      <td>5</td>\n",
       "      <td>6</td>\n",
       "      <td>32.31</td>\n",
       "      <td>35.74</td>\n",
       "      <td>22.76</td>\n",
       "      <td>45.79</td>\n",
       "      <td>29.98</td>\n",
       "    </tr>\n",
       "    <tr>\n",
       "      <th>6</th>\n",
       "      <td>6</td>\n",
       "      <td>7</td>\n",
       "      <td>34.04</td>\n",
       "      <td>38.44</td>\n",
       "      <td>24.49</td>\n",
       "      <td>44.90</td>\n",
       "      <td>27.37</td>\n",
       "    </tr>\n",
       "    <tr>\n",
       "      <th>7</th>\n",
       "      <td>7</td>\n",
       "      <td>8</td>\n",
       "      <td>28.35</td>\n",
       "      <td>33.77</td>\n",
       "      <td>26.09</td>\n",
       "      <td>44.19</td>\n",
       "      <td>32.82</td>\n",
       "    </tr>\n",
       "    <tr>\n",
       "      <th>8</th>\n",
       "      <td>8</td>\n",
       "      <td>9</td>\n",
       "      <td>30.27</td>\n",
       "      <td>39.10</td>\n",
       "      <td>18.27</td>\n",
       "      <td>40.82</td>\n",
       "      <td>30.65</td>\n",
       "    </tr>\n",
       "    <tr>\n",
       "      <th>9</th>\n",
       "      <td>9</td>\n",
       "      <td>10</td>\n",
       "      <td>30.08</td>\n",
       "      <td>39.83</td>\n",
       "      <td>21.54</td>\n",
       "      <td>49.19</td>\n",
       "      <td>29.00</td>\n",
       "    </tr>\n",
       "    <tr>\n",
       "      <th>10</th>\n",
       "      <td>10</td>\n",
       "      <td>11</td>\n",
       "      <td>33.78</td>\n",
       "      <td>38.16</td>\n",
       "      <td>22.11</td>\n",
       "      <td>49.59</td>\n",
       "      <td>29.89</td>\n",
       "    </tr>\n",
       "    <tr>\n",
       "      <th>11</th>\n",
       "      <td>11</td>\n",
       "      <td>12</td>\n",
       "      <td>29.81</td>\n",
       "      <td>35.74</td>\n",
       "      <td>24.07</td>\n",
       "      <td>42.56</td>\n",
       "      <td>27.18</td>\n",
       "    </tr>\n",
       "  </tbody>\n",
       "</table>\n",
       "</div>"
      ],
      "text/plain": [
       "    Unnamed: 0  user_id  vital_signs  meal_medication  oral_care  excretion  \\\n",
       "0            0        1        29.20            31.29      24.07      45.79   \n",
       "1            1        2        28.65            32.32      19.71      41.35   \n",
       "2            2        3        34.17            35.08      21.76      44.66   \n",
       "3            3        4        32.66            32.70      20.42      40.34   \n",
       "4            4        5        32.45            37.71      19.10      48.01   \n",
       "5            5        6        32.31            35.74      22.76      45.79   \n",
       "6            6        7        34.04            38.44      24.49      44.90   \n",
       "7            7        8        28.35            33.77      26.09      44.19   \n",
       "8            8        9        30.27            39.10      18.27      40.82   \n",
       "9            9       10        30.08            39.83      21.54      49.19   \n",
       "10          10       11        33.78            38.16      22.11      49.59   \n",
       "11          11       12        29.81            35.74      24.07      42.56   \n",
       "\n",
       "    bathing  \n",
       "0     32.43  \n",
       "1     30.12  \n",
       "2     28.35  \n",
       "3     32.53  \n",
       "4     28.29  \n",
       "5     29.98  \n",
       "6     27.37  \n",
       "7     32.82  \n",
       "8     30.65  \n",
       "9     29.00  \n",
       "10    29.89  \n",
       "11    27.18  "
      ]
     },
     "execution_count": 30,
     "metadata": {},
     "output_type": "execute_result"
    }
   ],
   "source": [
    "df_eforms"
   ]
  },
  {
   "cell_type": "code",
   "execution_count": 31,
   "metadata": {},
   "outputs": [
    {
     "data": {
      "text/html": [
       "<div>\n",
       "<style scoped>\n",
       "    .dataframe tbody tr th:only-of-type {\n",
       "        vertical-align: middle;\n",
       "    }\n",
       "\n",
       "    .dataframe tbody tr th {\n",
       "        vertical-align: top;\n",
       "    }\n",
       "\n",
       "    .dataframe thead th {\n",
       "        text-align: right;\n",
       "    }\n",
       "</style>\n",
       "<table border=\"1\" class=\"dataframe\">\n",
       "  <thead>\n",
       "    <tr style=\"text-align: right;\">\n",
       "      <th></th>\n",
       "      <th>Unnamed: 0</th>\n",
       "      <th>user_id</th>\n",
       "      <th>vital_signs</th>\n",
       "      <th>meal_medication</th>\n",
       "      <th>oral_care</th>\n",
       "      <th>excretion</th>\n",
       "      <th>bathing</th>\n",
       "    </tr>\n",
       "  </thead>\n",
       "  <tbody>\n",
       "    <tr>\n",
       "      <th>count</th>\n",
       "      <td>12.000000</td>\n",
       "      <td>12.000000</td>\n",
       "      <td>12.000000</td>\n",
       "      <td>12.000000</td>\n",
       "      <td>12.000000</td>\n",
       "      <td>12.000000</td>\n",
       "      <td>12.000000</td>\n",
       "    </tr>\n",
       "    <tr>\n",
       "      <th>mean</th>\n",
       "      <td>5.500000</td>\n",
       "      <td>6.500000</td>\n",
       "      <td>31.314167</td>\n",
       "      <td>35.823333</td>\n",
       "      <td>22.032500</td>\n",
       "      <td>44.765833</td>\n",
       "      <td>29.884167</td>\n",
       "    </tr>\n",
       "    <tr>\n",
       "      <th>std</th>\n",
       "      <td>3.605551</td>\n",
       "      <td>3.605551</td>\n",
       "      <td>2.152991</td>\n",
       "      <td>2.860684</td>\n",
       "      <td>2.381894</td>\n",
       "      <td>3.126431</td>\n",
       "      <td>1.955470</td>\n",
       "    </tr>\n",
       "    <tr>\n",
       "      <th>min</th>\n",
       "      <td>0.000000</td>\n",
       "      <td>1.000000</td>\n",
       "      <td>28.350000</td>\n",
       "      <td>31.290000</td>\n",
       "      <td>18.270000</td>\n",
       "      <td>40.340000</td>\n",
       "      <td>27.180000</td>\n",
       "    </tr>\n",
       "    <tr>\n",
       "      <th>25%</th>\n",
       "      <td>2.750000</td>\n",
       "      <td>3.750000</td>\n",
       "      <td>29.657500</td>\n",
       "      <td>33.502500</td>\n",
       "      <td>20.242500</td>\n",
       "      <td>42.257500</td>\n",
       "      <td>28.335000</td>\n",
       "    </tr>\n",
       "    <tr>\n",
       "      <th>50%</th>\n",
       "      <td>5.500000</td>\n",
       "      <td>6.500000</td>\n",
       "      <td>31.290000</td>\n",
       "      <td>35.740000</td>\n",
       "      <td>21.935000</td>\n",
       "      <td>44.780000</td>\n",
       "      <td>29.935000</td>\n",
       "    </tr>\n",
       "    <tr>\n",
       "      <th>75%</th>\n",
       "      <td>8.250000</td>\n",
       "      <td>9.250000</td>\n",
       "      <td>32.940000</td>\n",
       "      <td>38.230000</td>\n",
       "      <td>24.070000</td>\n",
       "      <td>46.345000</td>\n",
       "      <td>31.095000</td>\n",
       "    </tr>\n",
       "    <tr>\n",
       "      <th>max</th>\n",
       "      <td>11.000000</td>\n",
       "      <td>12.000000</td>\n",
       "      <td>34.170000</td>\n",
       "      <td>39.830000</td>\n",
       "      <td>26.090000</td>\n",
       "      <td>49.590000</td>\n",
       "      <td>32.820000</td>\n",
       "    </tr>\n",
       "  </tbody>\n",
       "</table>\n",
       "</div>"
      ],
      "text/plain": [
       "       Unnamed: 0    user_id  vital_signs  meal_medication  oral_care  \\\n",
       "count   12.000000  12.000000    12.000000        12.000000  12.000000   \n",
       "mean     5.500000   6.500000    31.314167        35.823333  22.032500   \n",
       "std      3.605551   3.605551     2.152991         2.860684   2.381894   \n",
       "min      0.000000   1.000000    28.350000        31.290000  18.270000   \n",
       "25%      2.750000   3.750000    29.657500        33.502500  20.242500   \n",
       "50%      5.500000   6.500000    31.290000        35.740000  21.935000   \n",
       "75%      8.250000   9.250000    32.940000        38.230000  24.070000   \n",
       "max     11.000000  12.000000    34.170000        39.830000  26.090000   \n",
       "\n",
       "       excretion    bathing  \n",
       "count  12.000000  12.000000  \n",
       "mean   44.765833  29.884167  \n",
       "std     3.126431   1.955470  \n",
       "min    40.340000  27.180000  \n",
       "25%    42.257500  28.335000  \n",
       "50%    44.780000  29.935000  \n",
       "75%    46.345000  31.095000  \n",
       "max    49.590000  32.820000  "
      ]
     },
     "execution_count": 31,
     "metadata": {},
     "output_type": "execute_result"
    }
   ],
   "source": [
    "df_eforms.describe()"
   ]
  },
  {
   "cell_type": "code",
   "execution_count": 32,
   "metadata": {},
   "outputs": [],
   "source": [
    "cols = ['vital_signs', 'meal_medication', 'oral_care', 'excretion', 'bathing']"
   ]
  },
  {
   "cell_type": "code",
   "execution_count": 33,
   "metadata": {},
   "outputs": [
    {
     "data": {
      "image/png": "[encoded data removed]",
      "text/plain": [
       "<Figure size 360x360 with 1 Axes>"
      ]
     },
     "metadata": {},
     "output_type": "display_data"
    }
   ],
   "source": [
    "df_vital = pd.DataFrame({'dialogue-based': df_dialogue.vital_signs.values, \n",
    "                         'eforms-based': df_eforms.vital_signs.values}, \n",
    "                        index=df_dialogue.user_id.values)\n",
    "\n",
    "ax = df_vital.plot.bar(rot=0, figsize=(5,5))\n",
    "ax.set_ylabel('second')\n",
    "ax.set_xlabel('user')\n",
    "ax.set_title(cols[0])\n",
    "ax.figure.savefig(cols[0]+'.png')"
   ]
  },
  {
   "cell_type": "code",
   "execution_count": 34,
   "metadata": {},
   "outputs": [
    {
     "data": {
      "image/png": "[encoded data removed]",
      "text/plain": [
       "<Figure size 360x360 with 1 Axes>"
      ]
     },
     "metadata": {},
     "output_type": "display_data"
    }
   ],
   "source": [
    "df_meal_medication = pd.DataFrame({'dialogue-based': df_dialogue.meal_medication.values, \n",
    "                         'eforms-based': df_eforms.meal_medication.values}, \n",
    "                        index=df_dialogue.user_id.values)\n",
    "\n",
    "ax = df_meal_medication.plot.bar(rot=0, figsize=(5,5))\n",
    "ax.set_ylabel('second')\n",
    "ax.set_xlabel('user')\n",
    "ax.set_title(cols[1])\n",
    "ax.figure.savefig(cols[1]+'.png')"
   ]
  },
  {
   "cell_type": "code",
   "execution_count": 35,
   "metadata": {},
   "outputs": [
    {
     "data": {
      "image/png": "[encoded data removed]",
      "text/plain": [
       "<Figure size 360x360 with 1 Axes>"
      ]
     },
     "metadata": {},
     "output_type": "display_data"
    }
   ],
   "source": [
    "df_oral_care = pd.DataFrame({'dialogue-based': df_dialogue.oral_care.values, \n",
    "                         'eforms-based': df_eforms.oral_care.values}, \n",
    "                        index=df_dialogue.user_id.values)\n",
    "\n",
    "ax = df_oral_care.plot.bar(rot=0, figsize=(5,5))\n",
    "ax.set_ylabel('second')\n",
    "ax.set_xlabel('user')\n",
    "ax.set_title(cols[2])\n",
    "ax.figure.savefig(cols[2]+'.png')"
   ]
  },
  {
   "cell_type": "code",
   "execution_count": 36,
   "metadata": {},
   "outputs": [
    {
     "data": {
      "image/png": "[encoded data removed]",
      "text/plain": [
       "<Figure size 360x360 with 1 Axes>"
      ]
     },
     "metadata": {},
     "output_type": "display_data"
    }
   ],
   "source": [
    "df_excretion = pd.DataFrame({'dialogue-based': df_dialogue.excretion.values, \n",
    "                         'eforms-based': df_eforms.excretion.values}, \n",
    "                        index=df_dialogue.user_id.values)\n",
    "\n",
    "ax = df_excretion.plot.bar(rot=0, figsize=(5,5))\n",
    "ax.set_ylabel('second')\n",
    "ax.set_xlabel('user')\n",
    "ax.set_title(cols[3])\n",
    "ax.figure.savefig(cols[3]+'.png')"
   ]
  },
  {
   "cell_type": "code",
   "execution_count": 37,
   "metadata": {},
   "outputs": [
    {
     "data": {
      "image/png": "[encoded data removed]",
      "text/plain": [
       "<Figure size 360x360 with 1 Axes>"
      ]
     },
     "metadata": {},
     "output_type": "display_data"
    }
   ],
   "source": [
    "df_bathing = pd.DataFrame({'dialogue-based': df_dialogue.bathing.values, \n",
    "                         'eforms-based': df_eforms.bathing.values}, \n",
    "                        index=df_dialogue.user_id.values)\n",
    "\n",
    "ax = df_bathing.plot.bar(rot=0, figsize=(5,5))\n",
    "ax.set_ylabel('second')\n",
    "ax.set_xlabel('user')\n",
    "ax.set_title(cols[4])\n",
    "ax.figure.savefig(cols[4]+'.png')"
   ]
  },
  {
   "cell_type": "code",
   "execution_count": 38,
   "metadata": {},
   "outputs": [],
   "source": [
    "mean_ds = df_dialogue.describe().loc[['mean']]\n",
    "mean_ds = mean_ds[cols]"
   ]
  },
  {
   "cell_type": "code",
   "execution_count": 39,
   "metadata": {},
   "outputs": [],
   "source": [
    "mean_ef = df_eforms.describe().loc[['mean']]\n",
    "mean_ef = mean_ef[cols]"
   ]
  },
  {
   "cell_type": "code",
   "execution_count": 40,
   "metadata": {},
   "outputs": [],
   "source": [
    "df_vital = pd.DataFrame({'dialogue-based': mean_ds.iloc[0].values, \n",
    "                         'eforms-based': mean_ef.iloc[0].values}, \n",
    "                        index=cols)"
   ]
  },
  {
   "cell_type": "code",
   "execution_count": 41,
   "metadata": {},
   "outputs": [
    {
     "data": {
      "text/plain": [
       "Text(0.5,1,'Speed in documentation by the user')"
      ]
     },
     "execution_count": 41,
     "metadata": {},
     "output_type": "execute_result"
    },
    {
     "data": {
      "image/png": "[encoded data removed]",
      "text/plain": [
       "<Figure size 360x360 with 1 Axes>"
      ]
     },
     "metadata": {},
     "output_type": "display_data"
    }
   ],
   "source": [
    "ax = df_vital.plot.bar(rot=90, figsize=(5,5))\n",
    "ax.set_ylabel('seconds')\n",
    "ax.set_title('Speed in documentation by the user')"
   ]
  },
  {
   "cell_type": "code",
   "execution_count": 42,
   "metadata": {},
   "outputs": [
    {
     "name": "stdout",
     "output_type": "stream",
     "text": [
      "[25.0675     26.79583333 18.6125     40.45083333 27.52583333]\n",
      "[2.83781646 3.32248116 1.57130013 3.23225634 1.420387  ]\n",
      "[20.97 22.47 16.3  36.12 25.2 ]\n",
      "[29.54 31.7  21.32 44.76 29.  ]\n",
      "round mean [25.07 26.8  18.61 40.45 27.53]\n",
      "round std [2.84 3.32 1.57 3.23 1.42]\n",
      "round min [20.97 22.47 16.3  36.12 25.2 ]\n",
      "round max [29.54 31.7  21.32 44.76 29.  ]\n",
      "avg mean 27.690499999999997\n",
      "avg std 2.47684821929928\n",
      "avg min 24.211999999999996\n",
      "avg max 31.264\n"
     ]
    }
   ],
   "source": [
    "df_dialogue = df_dialogue[cols]\n",
    "print(df_dialogue.describe().loc[['mean']].iloc[0].values)\n",
    "print(df_dialogue.describe().loc[['std']].iloc[0].values)\n",
    "print(df_dialogue.describe().loc[['min']].iloc[0].values)\n",
    "print(df_dialogue.describe().loc[['max']].iloc[0].values)\n",
    "\n",
    "print(\"round mean\", np.round(df_dialogue.describe().loc[['mean']].iloc[0].values, 2))\n",
    "print(\"round std\", np.round(df_dialogue.describe().loc[['std']].iloc[0].values, 2))\n",
    "print(\"round min\", np.round(df_dialogue.describe().loc[['min']].iloc[0].values, 2))\n",
    "print(\"round max\", np.round(df_dialogue.describe().loc[['max']].iloc[0].values, 2))\n",
    "\n",
    "print(\"avg mean\", df_dialogue.describe().loc[['mean']].iloc[0].values.mean())\n",
    "print(\"avg std\", df_dialogue.describe().loc[['std']].iloc[0].values.mean())\n",
    "print(\"avg min\", df_dialogue.describe().loc[['min']].iloc[0].values.mean())\n",
    "print(\"avg max\", df_dialogue.describe().loc[['max']].iloc[0].values.mean())"
   ]
  },
  {
   "cell_type": "code",
   "execution_count": 43,
   "metadata": {},
   "outputs": [
    {
     "name": "stdout",
     "output_type": "stream",
     "text": [
      "[31.31416667 35.82333333 22.0325     44.76583333 29.88416667]\n",
      "[2.1529914  2.86068439 2.3818943  3.12643119 1.95546999]\n",
      "[28.35 31.29 18.27 40.34 27.18]\n",
      "[34.17 39.83 26.09 49.59 32.82]\n",
      "round mean [31.31 35.82 22.03 44.77 29.88]\n",
      "round std [2.15 2.86 2.38 3.13 1.96]\n",
      "round min [28.35 31.29 18.27 40.34 27.18]\n",
      "round max [34.17 39.83 26.09 49.59 32.82]\n",
      "avg mean 32.763999999999996\n",
      "avg std 2.4954942523439207\n",
      "avg min 29.086000000000002\n",
      "avg max 36.5\n"
     ]
    }
   ],
   "source": [
    "df_eforms = df_eforms[cols]\n",
    "\n",
    "print(df_eforms.describe().loc[['mean']].iloc[0].values)\n",
    "print(df_eforms.describe().loc[['std']].iloc[0].values)\n",
    "print(df_eforms.describe().loc[['min']].iloc[0].values)\n",
    "print(df_eforms.describe().loc[['max']].iloc[0].values)\n",
    "\n",
    "print(\"round mean\", np.round(df_eforms.describe().loc[['mean']].iloc[0].values, 2))\n",
    "print(\"round std\", np.round(df_eforms.describe().loc[['std']].iloc[0].values, 2))\n",
    "print(\"round min\", np.round(df_eforms.describe().loc[['min']].iloc[0].values, 2))\n",
    "print(\"round max\", np.round(df_eforms.describe().loc[['max']].iloc[0].values, 2))\n",
    "\n",
    "print(\"avg mean\", df_eforms.describe().loc[['mean']].iloc[0].values.mean())\n",
    "print(\"avg std\", df_eforms.describe().loc[['std']].iloc[0].values.mean())\n",
    "print(\"avg min\", df_eforms.describe().loc[['min']].iloc[0].values.mean())\n",
    "print(\"avg max\", df_eforms.describe().loc[['max']].iloc[0].values.mean())"
   ]
  },
  {
   "cell_type": "code",
   "execution_count": 44,
   "metadata": {},
   "outputs": [
    {
     "data": {
      "text/plain": [
       "27.690499999999997"
      ]
     },
     "execution_count": 44,
     "metadata": {},
     "output_type": "execute_result"
    }
   ],
   "source": [
    "mean_ds.iloc[0].values.mean()"
   ]
  },
  {
   "cell_type": "code",
   "execution_count": 45,
   "metadata": {},
   "outputs": [
    {
     "data": {
      "text/plain": [
       "32.763999999999996"
      ]
     },
     "execution_count": 45,
     "metadata": {},
     "output_type": "execute_result"
    }
   ],
   "source": [
    "mean_ef.iloc[0].values.mean()"
   ]
  },
  {
   "cell_type": "code",
   "execution_count": 46,
   "metadata": {},
   "outputs": [
    {
     "data": {
      "text/plain": [
       "5.073499999999999"
      ]
     },
     "execution_count": 46,
     "metadata": {},
     "output_type": "execute_result"
    }
   ],
   "source": [
    "Increase = mean_ef.iloc[0].values.mean() - mean_ds.iloc[0].values.mean()\n",
    "Increase"
   ]
  },
  {
   "cell_type": "code",
   "execution_count": 47,
   "metadata": {},
   "outputs": [
    {
     "data": {
      "text/plain": [
       "15.484983518495909"
      ]
     },
     "execution_count": 47,
     "metadata": {},
     "output_type": "execute_result"
    }
   ],
   "source": [
    "# Increase = New Number - Original Number\n",
    "# Then:  divide the increase by the original number and multiply the answer by 100.\n",
    "# % increase = Increase ÷ Original Number × 100.\n",
    "# Read more at: https://www.skillsyouneed.com/num/percent-change.html\n",
    "increase = Increase / mean_ef.iloc[0].values.mean() * 100\n",
    "increase"
   ]
  },
  {
   "cell_type": "code",
   "execution_count": null,
   "metadata": {},
   "outputs": [],
   "source": []
  },
  {
   "cell_type": "code",
   "execution_count": null,
   "metadata": {},
   "outputs": [],
   "source": []
  }
 ],
 "metadata": {
  "kernelspec": {
   "display_name": "Python 3",
   "language": "python",
   "name": "python3"
  },
  "language_info": {
   "codemirror_mode": {
    "name": "ipython",
    "version": 3
   },
   "file_extension": ".py",
   "mimetype": "text/x-python",
   "name": "python",
   "nbconvert_exporter": "python",
   "pygments_lexer": "ipython3",
   "version": "3.7.2"
  }
 },
 "nbformat": 4,
 "nbformat_minor": 2
}
