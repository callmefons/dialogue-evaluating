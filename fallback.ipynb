{
 "cells": [
  {
   "cell_type": "code",
   "execution_count": 2,
   "metadata": {},
   "outputs": [],
   "source": [
    "import pandas as pd\n",
    "import numpy as np\n",
    "import re\n",
    "import matplotlib.pyplot as plt\n",
    "%matplotlib inline"
   ]
  },
  {
   "cell_type": "code",
   "execution_count": 3,
   "metadata": {},
   "outputs": [],
   "source": [
    "def percentage(num, total):\n",
    "    per = (num*100.0)/total\n",
    "    per = round(per, 1)\n",
    "    return per"
   ]
  },
  {
   "cell_type": "code",
   "execution_count": 4,
   "metadata": {},
   "outputs": [],
   "source": [
    "df = pd.read_csv('fallback.csv');"
   ]
  },
  {
   "cell_type": "code",
   "execution_count": 5,
   "metadata": {},
   "outputs": [
    {
     "data": {
      "text/html": [
       "<div>\n",
       "<style scoped>\n",
       "    .dataframe tbody tr th:only-of-type {\n",
       "        vertical-align: middle;\n",
       "    }\n",
       "\n",
       "    .dataframe tbody tr th {\n",
       "        vertical-align: top;\n",
       "    }\n",
       "\n",
       "    .dataframe thead th {\n",
       "        text-align: right;\n",
       "    }\n",
       "</style>\n",
       "<table border=\"1\" class=\"dataframe\">\n",
       "  <thead>\n",
       "    <tr style=\"text-align: right;\">\n",
       "      <th></th>\n",
       "      <th>user</th>\n",
       "      <th>act</th>\n",
       "      <th>total_turn</th>\n",
       "      <th>user_turn</th>\n",
       "      <th>fallback_speech</th>\n",
       "      <th>fallback_intent</th>\n",
       "    </tr>\n",
       "  </thead>\n",
       "  <tbody>\n",
       "    <tr>\n",
       "      <th>0</th>\n",
       "      <td>1.0</td>\n",
       "      <td>vital_signs</td>\n",
       "      <td>14.0</td>\n",
       "      <td>22.0</td>\n",
       "      <td>7.0</td>\n",
       "      <td>1.0</td>\n",
       "    </tr>\n",
       "    <tr>\n",
       "      <th>1</th>\n",
       "      <td>2.0</td>\n",
       "      <td>vital_signs</td>\n",
       "      <td>14.0</td>\n",
       "      <td>17.0</td>\n",
       "      <td>3.0</td>\n",
       "      <td>0.0</td>\n",
       "    </tr>\n",
       "    <tr>\n",
       "      <th>2</th>\n",
       "      <td>3.0</td>\n",
       "      <td>vital_signs</td>\n",
       "      <td>14.0</td>\n",
       "      <td>20.0</td>\n",
       "      <td>6.0</td>\n",
       "      <td>0.0</td>\n",
       "    </tr>\n",
       "    <tr>\n",
       "      <th>3</th>\n",
       "      <td>4.0</td>\n",
       "      <td>vital_signs</td>\n",
       "      <td>14.0</td>\n",
       "      <td>16.0</td>\n",
       "      <td>2.0</td>\n",
       "      <td>0.0</td>\n",
       "    </tr>\n",
       "    <tr>\n",
       "      <th>4</th>\n",
       "      <td>5.0</td>\n",
       "      <td>vital_signs</td>\n",
       "      <td>14.0</td>\n",
       "      <td>18.0</td>\n",
       "      <td>2.0</td>\n",
       "      <td>0.0</td>\n",
       "    </tr>\n",
       "  </tbody>\n",
       "</table>\n",
       "</div>"
      ],
      "text/plain": [
       "   user          act  total_turn  user_turn  fallback_speech  fallback_intent\n",
       "0   1.0  vital_signs        14.0       22.0              7.0              1.0\n",
       "1   2.0  vital_signs        14.0       17.0              3.0              0.0\n",
       "2   3.0  vital_signs        14.0       20.0              6.0              0.0\n",
       "3   4.0  vital_signs        14.0       16.0              2.0              0.0\n",
       "4   5.0  vital_signs        14.0       18.0              2.0              0.0"
      ]
     },
     "execution_count": 5,
     "metadata": {},
     "output_type": "execute_result"
    }
   ],
   "source": [
    "df.head()"
   ]
  },
  {
   "cell_type": "code",
   "execution_count": 6,
   "metadata": {},
   "outputs": [],
   "source": [
    "fallback_speech = df.fallback_speech.sum()\n",
    "user_turn = df.user_turn.sum()"
   ]
  },
  {
   "cell_type": "code",
   "execution_count": 7,
   "metadata": {},
   "outputs": [
    {
     "name": "stdout",
     "output_type": "stream",
     "text": [
      "24.5%\n",
      "\n"
     ]
    }
   ],
   "source": [
    "print(str(percentage(fallback_speech,user_turn))+'%\\n')"
   ]
  },
  {
   "cell_type": "code",
   "execution_count": 8,
   "metadata": {},
   "outputs": [],
   "source": [
    "fallback_intent = df.fallback_intent.sum()\n",
    "user_turn = df.user_turn.sum()"
   ]
  },
  {
   "cell_type": "code",
   "execution_count": 9,
   "metadata": {},
   "outputs": [
    {
     "name": "stdout",
     "output_type": "stream",
     "text": [
      "3.7%\n",
      "\n"
     ]
    }
   ],
   "source": [
    "print(str(percentage(fallback_intent,user_turn))+'%\\n')"
   ]
  },
  {
   "cell_type": "code",
   "execution_count": 10,
   "metadata": {},
   "outputs": [
    {
     "data": {
      "text/plain": [
       "28.2"
      ]
     },
     "execution_count": 10,
     "metadata": {},
     "output_type": "execute_result"
    }
   ],
   "source": [
    "percentage(fallback_speech,user_turn) + percentage(fallback_intent,user_turn)"
   ]
  },
  {
   "cell_type": "code",
   "execution_count": 49,
   "metadata": {},
   "outputs": [
    {
     "data": {
      "text/plain": [
       "array(['vital_signs', 'meal_med', 'oral_care', 'excretion', 'bathing',\n",
       "       nan], dtype=object)"
      ]
     },
     "execution_count": 49,
     "metadata": {},
     "output_type": "execute_result"
    }
   ],
   "source": [
    "df.act.unique()"
   ]
  },
  {
   "cell_type": "code",
   "execution_count": 50,
   "metadata": {},
   "outputs": [
    {
     "name": "stdout",
     "output_type": "stream",
     "text": [
      "6.4%\n",
      "0.8%\n",
      "\n",
      "3.2%\n",
      "0.8%\n",
      "\n",
      "4.0%\n",
      "0.7%\n",
      "\n",
      "7.3%\n",
      "1.0%\n",
      "\n",
      "3.6%\n",
      "0.4%\n",
      "\n"
     ]
    }
   ],
   "source": [
    "# print(df.fallback_speech.sum())\n",
    "\n",
    "vital_signs = df[df.act == 'vital_signs'] \n",
    "meal_med = df[df.act == 'meal_med'] \n",
    "oral_care = df[df.act == 'oral_care'] \n",
    "excretion = df[df.act == 'excretion'] \n",
    "bathing = df[df.act == 'bathing'] \n",
    "# print(bath.fallback_speech.sum())\n",
    "# print(bath.fallback_intent.sum())\n",
    "\n",
    "print(str(percentage(vital_signs.fallback_speech.sum(),user_turn))+'%')\n",
    "print(str(percentage(vital_signs.fallback_intent.sum(),user_turn))+'%\\n')\n",
    "\n",
    "print(str(percentage(meal_med.fallback_speech.sum(),user_turn))+'%')\n",
    "print(str(percentage(meal_med.fallback_intent.sum(),user_turn))+'%\\n')\n",
    "\n",
    "print(str(percentage(oral_care.fallback_speech.sum(),user_turn))+'%')\n",
    "print(str(percentage(oral_care.fallback_intent.sum(),user_turn))+'%\\n')\n",
    "\n",
    "print(str(percentage(excretion.fallback_speech.sum(),user_turn))+'%')\n",
    "print(str(percentage(excretion.fallback_intent.sum(),user_turn))+'%\\n')\n",
    "\n",
    "print(str(percentage(bathing.fallback_speech.sum(),user_turn))+'%')\n",
    "print(str(percentage(bathing.fallback_intent.sum(),user_turn))+'%\\n')\n",
    "\n",
    "# bath.groupby([\"act\", \"fallback_speech\"]).size()"
   ]
  },
  {
   "cell_type": "code",
   "execution_count": 51,
   "metadata": {},
   "outputs": [
    {
     "data": {
      "text/plain": [
       "24.500000000000004"
      ]
     },
     "execution_count": 51,
     "metadata": {},
     "output_type": "execute_result"
    }
   ],
   "source": [
    "6.4 + 3.2 + 4.0 + 7.3 + 3.6"
   ]
  },
  {
   "cell_type": "code",
   "execution_count": 52,
   "metadata": {},
   "outputs": [
    {
     "data": {
      "text/plain": [
       "3.6999999999999997"
      ]
     },
     "execution_count": 52,
     "metadata": {},
     "output_type": "execute_result"
    }
   ],
   "source": [
    "0.8+0.8+0.7+1.0+0.4"
   ]
  },
  {
   "cell_type": "code",
   "execution_count": 19,
   "metadata": {},
   "outputs": [],
   "source": [
    "# df_vital = pd.DataFrame({'fallback_speech': df.fallback_speech.count, \n",
    "#                          'fallback_intent': df.fallback_intent.count}, \n",
    "#                         index=df.act)\n",
    "\n",
    "# ax = df_vital.plot.bar(rot=0, figsize=(5,5))\n",
    "# ax.set_ylabel('second')\n",
    "# ax.set_xlabel('user')\n",
    "# ax.set_title(\"fallback\")\n",
    "# # ax.figure.savefig(cols[0]+'.png')"
   ]
  },
  {
   "cell_type": "code",
   "execution_count": null,
   "metadata": {},
   "outputs": [],
   "source": []
  }
 ],
 "metadata": {
  "kernelspec": {
   "display_name": "Python 3",
   "language": "python",
   "name": "python3"
  },
  "language_info": {
   "codemirror_mode": {
    "name": "ipython",
    "version": 3
   },
   "file_extension": ".py",
   "mimetype": "text/x-python",
   "name": "python",
   "nbconvert_exporter": "python",
   "pygments_lexer": "ipython3",
   "version": "3.7.2"
  }
 },
 "nbformat": 4,
 "nbformat_minor": 2
}
